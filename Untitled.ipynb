{
 "cells": [
  {
   "cell_type": "code",
   "execution_count": 1,
   "id": "e9464147",
   "metadata": {},
   "outputs": [],
   "source": [
    "import pandas as pd\n",
    "import numpy as np"
   ]
  },
  {
   "cell_type": "code",
   "execution_count": 2,
   "id": "87615022",
   "metadata": {},
   "outputs": [],
   "source": [
    "df = pd.read_csv(\"n_movies.csv\")\n",
    "df.head()"
   ]
  },
  {
   "cell_type": "code",
   "execution_count": 3,
   "id": "fff26be1",
   "metadata": {},
   "outputs": [],
   "source": [
    "df.describe()"
   ]
  },
  {
   "cell_type": "code",
   "execution_count": 4,
   "id": "4709c529",
   "metadata": {},
   "outputs": [],
   "source": [
    "df.info()"
   ]
  },
  {
   "cell_type": "code",
   "execution_count": 5,
   "id": "47792119",
   "metadata": {},
   "outputs": [],
   "source": [
    "df.isnull().sum()"
   ]
  },
  {
   "cell_type": "code",
   "execution_count": 6,
   "id": "71152d18",
   "metadata": {},
   "outputs": [],
   "source": [
    "# Iterate over each column and find the first row with null values\n",
    "for column in df.columns:\n",
    "    null_rows = df[df[column].isnull()]\n",
    "    \n",
    "    if not null_rows.empty:\n",
    "        first_null_row = null_rows.iloc[0]\n",
    "        row_number = df.index.get_loc(first_null_row.name) + 1\n",
    "        title_of_movie = first_null_row['title']\n",
    "        print(f\"First movie without a value in '{column}' at row {row_number}: {title_of_movie}\")\n",
    "    else:\n",
    "        print(f\"No movie without a value in '{column}'\")"
   ]
  },
  {
   "cell_type": "code",
   "execution_count": 7,
   "id": "7e97fda4",
   "metadata": {},
   "outputs": [],
   "source": [
    "from sklearn.feature_extraction.text import TfidfVectorizer\n",
    "from sklearn.ensemble import RandomForestClassifier\n",
    "from sklearn.preprocessing import LabelEncoder\n",
    "from sklearn.metrics import classification_report\n",
    "from sklearn.model_selection import train_test_split\n",
    "from sklearn.exceptions import NotFittedError"
   ]
  },
  {
   "cell_type": "code",
   "execution_count": 8,
   "id": "db5fea2f",
   "metadata": {},
   "outputs": [],
   "source": [
    "# Subset of data with non-null 'genre' and 'description'\n",
    "df2 = df.dropna(subset=['genre', 'description'])"
   ]
  },
  {
   "cell_type": "code",
   "execution_count": 9,
   "id": "c08ab9f4",
   "metadata": {},
   "outputs": [],
   "source": [
    "# Text processing and feature extraction\n",
    "vectorizer = TfidfVectorizer(stop_words='english')\n",
    "X = vectorizer.fit_transform(df2['description'])\n",
    "y_label_encoder = LabelEncoder()\n",
    "y = y_label_encoder.fit_transform(df2['genre'])"
   ]
  },
  {
   "cell_type": "code",
   "execution_count": 10,
   "id": "498a5ce2",
   "metadata": {},
   "outputs": [],
   "source": [
    "# Train-test split for evaluation\n",
    "X_train, X_test, y_train, y_test = train_test_split(X, y, test_size=0.2, random_state=42)"
   ]
  },
  {
   "cell_type": "code",
   "execution_count": null,
   "id": "21f451b4",
   "metadata": {},
   "outputs": [],
   "source": [
    "# Train a RandomForestClassifier\n",
    "classifier = RandomForestClassifier(random_state=42)\n",
    "classifier.fit(X_train, y_train)"
   ]
  },
  {
   "cell_type": "code",
   "execution_count": null,
   "id": "10e2f52f",
   "metadata": {},
   "outputs": [],
   "source": [
    "y_pred = classifier.predict(X_test)\n",
    "print(\"Classification Report:\\n\", classification_report(y_test, y_pred))"
   ]
  },
  {
   "cell_type": "code",
   "execution_count": null,
   "id": "d04385e6",
   "metadata": {},
   "outputs": [],
   "source": [
    "# Predict 'genre' for instances with missing values\n",
    "missing_genre_df = df[df['genre'].isnull()]"
   ]
  },
  {
   "cell_type": "code",
   "execution_count": null,
   "id": "a4bf26df",
   "metadata": {},
   "outputs": [],
   "source": [
    "# Extract names of movies with initially null 'genre'\n",
    "movies_with_null_genre_names = missing_genre_df['title'].tolist()"
   ]
  },
  {
   "cell_type": "code",
   "execution_count": null,
   "id": "089996aa",
   "metadata": {},
   "outputs": [],
   "source": [
    "# Check if 'genre' has any missing values before proceeding\n",
    "if missing_genre_df['genre'].isnull().any():\n",
    "    try:\n",
    "        # Transform 'description' for missing values\n",
    "        missing_genre_X = vectorizer.transform(missing_genre_df['description'])\n",
    "        \n",
    "        # Predict 'genre' for instances with missing values\n",
    "        predicted_genre = classifier.predict(missing_genre_X)\n",
    "        \n",
    "        # Fill missing 'genre' values with predictions\n",
    "        df.loc[df['genre'].isnull(), 'genre'] = y_label_encoder.inverse_transform(predicted_genre)\n",
    "        \n",
    "    except NotFittedError as e:\n",
    "        print(f\"Error: {e}. The vectorizer and label encoder must be fitted before making predictions.\")\n",
    "else:\n",
    "    print(\"No missing values in 'genre'.\")"
   ]
  },
  {
   "cell_type": "code",
   "execution_count": null,
   "id": "98258c44",
   "metadata": {
    "scrolled": true
   },
   "outputs": [],
   "source": [
    "filled_movies = df[df['genre'].notnull()]\n",
    "\n",
    "print(\"Movies with Filled Genres:\")\n",
    "print(\"Movie\\t\\t\\tGenre\")\n",
    "for index, row in filled_movies.iterrows():\n",
    "    print(f\"{row['title']}\\t\\t{row['genre']}\")"
   ]
  },
  {
   "cell_type": "code",
   "execution_count": null,
   "id": "ef164c90",
   "metadata": {},
   "outputs": [],
   "source": [
    "print(\"\\nMovies with Initially Null Genre:\")\n",
    "print(\"Movie\\t\\t\\tGenre\")\n",
    "for movie_name in movies_with_null_genre_names:\n",
    "    movie_row = df[df['title'] == movie_name].iloc[0]\n",
    "    print(f\"{movie_row['title']}\\t\\t{movie_row['genre']}\")"
   ]
  },
  {
   "cell_type": "code",
   "execution_count": null,
   "id": "af018a82",
   "metadata": {},
   "outputs": [],
   "source": []
  },
  {
   "cell_type": "code",
   "execution_count": null,
   "id": "e570c046",
   "metadata": {},
   "outputs": [],
   "source": []
  }
 ],
 "metadata": {
  "kernelspec": {
   "display_name": "Python 3 (ipykernel)",
   "language": "python",
   "name": "python3"
  },
  "language_info": {
   "codemirror_mode": {
    "name": "ipython",
    "version": 3
   },
   "file_extension": ".py",
   "mimetype": "text/x-python",
   "name": "python",
   "nbconvert_exporter": "python",
   "pygments_lexer": "ipython3",
   "version": "3.11.5"
  }
 },
 "nbformat": 4,
 "nbformat_minor": 5
}
